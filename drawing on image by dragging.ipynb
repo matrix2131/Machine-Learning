{
 "cells": [
  {
   "cell_type": "code",
   "execution_count": 1,
   "metadata": {},
   "outputs": [],
   "source": [
    "import cv2\n",
    "import numpy as np\n",
    "import matplotlib.pyplot as plt"
   ]
  },
  {
   "cell_type": "code",
   "execution_count": 2,
   "metadata": {},
   "outputs": [],
   "source": [
    "#################\n",
    "## VARIABLES ####\n",
    "#################\n",
    "\n",
    "# Initially drawing is taken as false and it will become true if a mouse button is clicked.\n",
    "\n",
    "drawing = False\n",
    "ix, iy = -1, -1\n",
    "\n",
    "\n",
    "# FUNCTION\n",
    "def draw_rectangle(event,x,y,flags,param):\n",
    "    \n",
    "    global ix,iy,drawing\n",
    "    \n",
    "    if event == cv2.EVENT_LBUTTONDOWN:\n",
    "        \n",
    "        drawing == True\n",
    "        ix, iy = x,y\n",
    "        \n",
    "    elif event == cv2.EVENT_MOUSEMOVE:\n",
    "        if drawing == True:\n",
    "            cv2.rectangle(img, (ix,iy), (x,y), (255,0,0), -1)\n",
    "            \n",
    "    elif event == cv2.EVENT_LBUTTONUP:\n",
    "        drawing == False\n",
    "        cv2.rectangle(img, (ix,iy), (x,y), (255,0,0), -1)\n",
    "\n",
    "# SHOWING THE IMAGE\n",
    "\n",
    "# BLACK\n",
    "img = np.zeros((512,512,3))\n",
    "\n",
    "cv2.namedWindow(winname = \"DRAWING\")\n",
    "\n",
    "cv2.setMouseCallback(\"DRAWING\", draw_rectangle)\n",
    "\n",
    "while True:\n",
    "    cv2.imshow(\"DRAWING\",img)\n",
    "    \n",
    "    if cv2.waitKey(1) & 0xFF == 27:\n",
    "        break\n",
    "cv2.destroyAllWindows()"
   ]
  },
  {
   "cell_type": "code",
   "execution_count": null,
   "metadata": {},
   "outputs": [],
   "source": []
  }
 ],
 "metadata": {
  "kernelspec": {
   "display_name": "Python 3",
   "language": "python",
   "name": "python3"
  },
  "language_info": {
   "codemirror_mode": {
    "name": "ipython",
    "version": 3
   },
   "file_extension": ".py",
   "mimetype": "text/x-python",
   "name": "python",
   "nbconvert_exporter": "python",
   "pygments_lexer": "ipython3",
   "version": "3.7.4"
  }
 },
 "nbformat": 4,
 "nbformat_minor": 4
}
