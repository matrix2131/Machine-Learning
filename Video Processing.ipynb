{
 "cells": [
  {
   "cell_type": "code",
   "execution_count": 1,
   "metadata": {},
   "outputs": [],
   "source": [
    "import cv2"
   ]
  },
  {
   "cell_type": "code",
   "execution_count": 2,
   "metadata": {},
   "outputs": [],
   "source": [
    "import numpy as np"
   ]
  },
  {
   "cell_type": "code",
   "execution_count": 3,
   "metadata": {},
   "outputs": [],
   "source": [
    "# Create a VideoCapture object and read from input file.\n",
    "# If the input is the camera, pass 0 instead of the video file name.\n",
    "\n",
    "cap = cv2.VideoCapture(\"/home/soniya/Desktop/Badminton.mp4\")\n",
    "# cap = cv2.VideoCapture(\"filename.mp4\")\n",
    "# Note here the 'V' in VideoCapture is capital in capital letters."
   ]
  },
  {
   "cell_type": "markdown",
   "metadata": {},
   "source": [
    "**Displaying a Video.**\n",
    "\n",
    "\n",
    "After reading a video file, we can display the video frame by frame. A frame of a video is simply an image and we display each frame the same way we display images, i.e., we use the function imshow().\n",
    "\n",
    "As in the case of an image, we use the waitKey() after imshow() function to pause each frame in the video. In the case of an image, we pass ‘0’ to the waitKey() function, but for playing a video, we need to pass a number greater than ‘0’ to the waitKey() function. This is because ‘0’ would pause the frame in the video for an infinite amount of time and in a video we need each frame to be shown only for some finite interval of time, so we need to pass a number greater than ‘0’ to the waitKey() function. This number is equal to the time in milliseconds we want each frame to be displayed.\n",
    "\n",
    "While reading the frames from a webcam, using waitKey(1) is appropriate because the display frame rate will be limited by the frame rate of the webcam even if we specify a delay of 1 ms in waitKey.\n",
    "\n",
    "While reading frames from a video that you are processing, it may still be appropriate to set the time delay to 1 ms so that the thread is freed up to do the processing we want to do.\n",
    "\n",
    "In rare cases, when the playback needs to be at a certain frame rate, we may want the delay to be higher than 1 ms.\n"
   ]
  },
  {
   "cell_type": "code",
   "execution_count": 4,
   "metadata": {},
   "outputs": [],
   "source": [
    "# Check if the camera is opened successfully.\n",
    "if(cap.isOpened() == False):\n",
    "    print(\"Error in opening the camera\")\n",
    "\n",
    "# Read and display video frames until video is completed or user quits by presing esc.\n",
    "while(cap.isOpened()):\n",
    "    # Capture frame by frame.\n",
    "    ret, frame = cap.read()\n",
    "    if ret == True:\n",
    "        \n",
    "        # Display the resulting frame.\n",
    "        cv2.imshow('Frame', frame)\n",
    "        \n",
    "        # Press esc on keyboard to exit.\n",
    "        if cv2.waitKey(25)  &  0xFF == 27:\n",
    "            break\n",
    "            \n",
    "            # Break the loop.\n",
    "        else:\n",
    "            break\n",
    "            \n",
    " # When everything is done, release the video capture object.\n",
    "cap.release()\n",
    "    \n",
    "# Close all the frames.\n",
    "cv2.destroyAllWindows()    "
   ]
  },
  {
   "cell_type": "code",
   "execution_count": null,
   "metadata": {},
   "outputs": [],
   "source": []
  },
  {
   "cell_type": "code",
   "execution_count": null,
   "metadata": {},
   "outputs": [],
   "source": []
  }
 ],
 "metadata": {
  "kernelspec": {
   "display_name": "Python 3",
   "language": "python",
   "name": "python3"
  },
  "language_info": {
   "codemirror_mode": {
    "name": "ipython",
    "version": 3
   },
   "file_extension": ".py",
   "mimetype": "text/x-python",
   "name": "python",
   "nbconvert_exporter": "python",
   "pygments_lexer": "ipython3",
   "version": "3.7.4"
  }
 },
 "nbformat": 4,
 "nbformat_minor": 4
}
