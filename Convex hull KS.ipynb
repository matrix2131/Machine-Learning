{
 "cells": [
  {
   "cell_type": "code",
   "execution_count": 1,
   "metadata": {},
   "outputs": [],
   "source": [
    "import cv2"
   ]
  },
  {
   "cell_type": "code",
   "execution_count": 2,
   "metadata": {},
   "outputs": [],
   "source": [
    "import numpy as np"
   ]
  },
  {
   "cell_type": "code",
   "execution_count": 3,
   "metadata": {},
   "outputs": [],
   "source": [
    "import sys"
   ]
  },
  {
   "cell_type": "code",
   "execution_count": 4,
   "metadata": {},
   "outputs": [],
   "source": [
    "if __name__ == \"__main__\":\n",
    "    if(len(sys.argv)) < 2:\n",
    "        file_path = \"/home/soniya/Documents/KS.jpg\"\n",
    "    else:\n",
    "        file_path = sys.argv[1]\n",
    "\n",
    "    # read image\n",
    "    src = cv2.imread(\"/home/soniya/Documents/KS.jpg\", 1)\n",
    "    \n",
    "    # show source image\n",
    "    cv2.imshow(\"/home/soniya/Documents/KS.jpg\", src)\n",
    "\n",
    "    # convert image to gray scale\n",
    "    gray = cv2.cvtColor(src, cv2.COLOR_BGR2GRAY)\n",
    "     \n",
    "    # blur the image\n",
    "    blur = cv2.blur(gray, (3, 3))\n",
    "    \n",
    "    # binary thresholding of the image\n",
    "    ret, thresh = cv2.threshold(blur, 200, 255, cv2.THRESH_BINARY)\n",
    "    \n",
    "    # find contours\n",
    "    im2, contours, hierarchy = cv2.findContours(thresh, cv2.RETR_TREE, \\\n",
    "            cv2.CHAIN_APPROX_SIMPLE)\n",
    "    \n",
    "    # create hull array for convexHull points\n",
    "    hull = []\n",
    "    \n",
    "    # calculate points for each contour\n",
    "    for i in range(len(contours)):\n",
    "        hull.append(cv2.convexHull(contours[i], False))\n",
    "    \n",
    "    # create an empty black image\n",
    "    drawing = np.zeros((thresh.shape[0], thresh.shape[1], 3), np.uint8)\n",
    "    \n",
    "    # draw contours and hull points\n",
    "    for i in range(len(contours)):\n",
    "        color_contours = (0, 255, 0) # color for contours\n",
    "        color = (255, 255, 255) # color for convex hull\n",
    "        # draw contours\n",
    "        cv2.drawContours(drawing, contours, i, color_contours, 2, 8, hierarchy)\n",
    "        # draw convex hull\n",
    "        cv2.drawContours(drawing, hull, i, color, 2, 8)\n",
    "\n",
    "    cv2.imshow(\"Output\", drawing)\n",
    "\n",
    "    cv2.waitKey(0)\n",
    "    cv2.destroyAllWindows()"
   ]
  },
  {
   "cell_type": "code",
   "execution_count": null,
   "metadata": {},
   "outputs": [],
   "source": []
  },
  {
   "cell_type": "code",
   "execution_count": null,
   "metadata": {},
   "outputs": [],
   "source": []
  }
 ],
 "metadata": {
  "kernelspec": {
   "display_name": "Python 2",
   "language": "python",
   "name": "python2"
  },
  "language_info": {
   "codemirror_mode": {
    "name": "ipython",
    "version": 2
   },
   "file_extension": ".py",
   "mimetype": "text/x-python",
   "name": "python",
   "nbconvert_exporter": "python",
   "pygments_lexer": "ipython2",
   "version": "2.7.17"
  }
 },
 "nbformat": 4,
 "nbformat_minor": 2
}
