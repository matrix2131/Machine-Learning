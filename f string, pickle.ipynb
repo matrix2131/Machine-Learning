{
 "cells": [
  {
   "cell_type": "code",
   "execution_count": 4,
   "metadata": {},
   "outputs": [
    {
     "name": "stdout",
     "output_type": "stream",
     "text": [
      "The value of L is [1, 'SONIYA', [1, 2, 3]]\n"
     ]
    }
   ],
   "source": [
    "#f strings\n",
    "\n",
    "L = [1,\"SONIYA\", [1 ,2 ,3]]\n",
    "print(f\"The value of L is {L}\")"
   ]
  },
  {
   "cell_type": "code",
   "execution_count": 5,
   "metadata": {
    "scrolled": true
   },
   "outputs": [],
   "source": [
    "# OS Module\n",
    "\n",
    "import os\n"
   ]
  },
  {
   "cell_type": "code",
   "execution_count": 9,
   "metadata": {},
   "outputs": [
    {
     "data": {
      "text/plain": [
       "'/home/soniya'"
      ]
     },
     "execution_count": 9,
     "metadata": {},
     "output_type": "execute_result"
    }
   ],
   "source": [
    "str = os.getcwd()\n",
    "str"
   ]
  },
  {
   "cell_type": "code",
   "execution_count": 8,
   "metadata": {},
   "outputs": [
    {
     "data": {
      "text/plain": [
       "['.octave_hist',\n",
       " 'IdeaProjects',\n",
       " 'Charles Gets His Mommy Strength _ Brooklyn Nine-Nine-5whdVLSEqKU.f137.mp4',\n",
       " 'Untitled3.ipynb',\n",
       " '.local',\n",
       " '.thunderbird',\n",
       " 'Music',\n",
       " 'Public',\n",
       " 'octavematrix3.m',\n",
       " 'Videos',\n",
       " '.ssh',\n",
       " '.ICEauthority',\n",
       " 'Templates',\n",
       " '.mozilla',\n",
       " 'Soniya.class',\n",
       " '.nv',\n",
       " 'snap',\n",
       " '.profile',\n",
       " '.ipython',\n",
       " 'Soniya.java',\n",
       " 'instructions.txt',\n",
       " '.emacs.d',\n",
       " 'Desktop',\n",
       " '.cache',\n",
       " 'examples.desktop',\n",
       " '.config',\n",
       " 'Untitled.ipynb',\n",
       " '.var',\n",
       " '.pki',\n",
       " '.bashrc',\n",
       " '.conda',\n",
       " '.gnupg',\n",
       " 'anaconda3',\n",
       " '.android',\n",
       " '.bash_history',\n",
       " '.jupyter',\n",
       " '.bash_logout',\n",
       " '.sudo_as_admin_successful',\n",
       " '.viminfo',\n",
       " '.ipynb_checkpoints',\n",
       " 'Untitled1.ipynb',\n",
       " '.java',\n",
       " 'Untitled2.ipynb',\n",
       " 'Downloads',\n",
       " '.instructions.txt.swp',\n",
       " '.IdeaIC2019.3',\n",
       " 'tutor',\n",
       " 'Pictures',\n",
       " '.python_history',\n",
       " '.vscode',\n",
       " 'Documents',\n",
       " 'passwords.txt']"
      ]
     },
     "execution_count": 8,
     "metadata": {},
     "output_type": "execute_result"
    }
   ],
   "source": [
    "os.listdir()\n",
    "myObjs = []\n",
    "for item in os.listdr():\n",
    "    myObjs.append(cv2.imread(f\"{str}/{item}\"))\n",
    "    "
   ]
  },
  {
   "cell_type": "code",
   "execution_count": 11,
   "metadata": {},
   "outputs": [],
   "source": [
    "import time"
   ]
  },
  {
   "cell_type": "code",
   "execution_count": 14,
   "metadata": {},
   "outputs": [],
   "source": [
    "# Delay time. \n",
    "time.sleep(3)\n",
    "# Make directory.\n",
    "os.mkdir(\"NAAM 2\")\n",
    "time.sleep(3)\n",
    "# Remove directory.\n",
    "os.rmdir(\"NAAM 2\")"
   ]
  },
  {
   "cell_type": "code",
   "execution_count": 15,
   "metadata": {},
   "outputs": [],
   "source": [
    "import pickle"
   ]
  },
  {
   "cell_type": "code",
   "execution_count": 16,
   "metadata": {},
   "outputs": [],
   "source": [
    "my_dict = {'A':12, 'b':124}\n",
    "# wb is for writing.\n",
    "pickle_out = open(\"dict.pickle\", \"wb\")\n",
    "pickle.dump(my_dict, pickle_out)\n",
    "pickle_out.close()"
   ]
  },
  {
   "cell_type": "code",
   "execution_count": 17,
   "metadata": {},
   "outputs": [
    {
     "data": {
      "text/plain": [
       "{'A': 12, 'b': 124}"
      ]
     },
     "execution_count": 17,
     "metadata": {},
     "output_type": "execute_result"
    }
   ],
   "source": [
    "# rb is for reading.\n",
    "pickle_in = open(\"dict.pickle\",\"rb\")\n",
    "recovered_data = pickle.load(pickle_in)\n",
    "recovered_data"
   ]
  },
  {
   "cell_type": "code",
   "execution_count": null,
   "metadata": {},
   "outputs": [],
   "source": []
  }
 ],
 "metadata": {
  "kernelspec": {
   "display_name": "Python 3",
   "language": "python",
   "name": "python3"
  },
  "language_info": {
   "codemirror_mode": {
    "name": "ipython",
    "version": 3
   },
   "file_extension": ".py",
   "mimetype": "text/x-python",
   "name": "python",
   "nbconvert_exporter": "python",
   "pygments_lexer": "ipython3",
   "version": "3.7.4"
  }
 },
 "nbformat": 4,
 "nbformat_minor": 2
}
