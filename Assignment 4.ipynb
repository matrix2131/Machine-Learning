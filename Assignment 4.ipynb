{
 "cells": [
  {
   "cell_type": "code",
   "execution_count": 1,
   "metadata": {},
   "outputs": [],
   "source": [
    "import cv2"
   ]
  },
  {
   "cell_type": "code",
   "execution_count": 9,
   "metadata": {},
   "outputs": [],
   "source": [
    "def draw_circle(event,x,y,flags,param):\n",
    "    \n",
    "    global center, left_clicked\n",
    "    \n",
    "    \n",
    "    if event == cv2.EVENT_LBUTTONDOWN:\n",
    "        \n",
    "            center = (x,y)\n",
    "            left_clicked = False\n",
    "            \n",
    "            \n",
    "    if event == cv2.EVENT_LBUTTONUP:\n",
    "        left_clicked = True\n",
    "        \n",
    "# Global variables        \n",
    "center = (0,0)\n",
    "left_clicked = False\n",
    "\n",
    "# Capture Video\n",
    "cap = cv2.VideoCapture(0)\n",
    "\n",
    "# Create a named video for connections.\n",
    "cv2.namedWindow('Circle')\n",
    "\n",
    "# Binding draw_circle function to mouse click.\n",
    "cv2.setMouseCallback('Circle',draw_circle)\n",
    "\n",
    "while True:\n",
    "    \n",
    "    # capture frame by frame\n",
    "    ret,frame = cap.read()\n",
    "    \n",
    "    # Use if statement to see if something is clicked.\n",
    "    if left_clicked == True:\n",
    "        # Drawing circle in frame.\n",
    "        cv2.circle(frame,center,80,(255,0,0),4)\n",
    "        \n",
    "    # Display the resulting frame.\n",
    "    cv2.imshow('Circle',frame)\n",
    "    \n",
    "    if cv2.waitKey(1) & 0xFF == ord('q'):\n",
    "        break\n",
    "        \n",
    "cap.release()\n",
    "cv2.destroyAllWindows()\n",
    "            "
   ]
  },
  {
   "cell_type": "code",
   "execution_count": null,
   "metadata": {},
   "outputs": [],
   "source": []
  }
 ],
 "metadata": {
  "kernelspec": {
   "display_name": "Python 3",
   "language": "python",
   "name": "python3"
  },
  "language_info": {
   "codemirror_mode": {
    "name": "ipython",
    "version": 3
   },
   "file_extension": ".py",
   "mimetype": "text/x-python",
   "name": "python",
   "nbconvert_exporter": "python",
   "pygments_lexer": "ipython3",
   "version": "3.6.9"
  }
 },
 "nbformat": 4,
 "nbformat_minor": 4
}
